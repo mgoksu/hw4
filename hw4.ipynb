{
 "cells": [
  {
   "cell_type": "markdown",
   "metadata": {},
   "source": [
    "### Miraç Göksu Öztürk\n",
    "#### HW 4\n",
    "#### 2015700102\n",
    "\n",
    "a)\n",
    "We can find a $Q_1$ such that <br/>\n",
    "$AQ_{1}^* = \n",
    "\\begin{bmatrix}\n",
    "    x       & x & 0\\\\\n",
    "    x       & x & x\\\\\n",
    "    x       & x & x\n",
    "\\end{bmatrix}\n",
    "$\n",
    "<br/><br/>\n",
    "We can find a $Q_2$ such that <br/>\n",
    "$Q_2AQ_{1}^* = \n",
    "\\begin{bmatrix}\n",
    "    x       & x & 0\\\\\n",
    "    0       & x & x\\\\\n",
    "    0       & x & x\n",
    "\\end{bmatrix}\n",
    "$\n",
    "<br/><br/>\n",
    "We can find a $Q_3$ such that <br/>\n",
    "$Q_3Q_2AQ_{1}^* = \n",
    "\\begin{bmatrix}\n",
    "    x       & x & 0\\\\\n",
    "    0       & x & x\\\\\n",
    "    0       & 0 & x\n",
    "\\end{bmatrix}\n",
    "$<br/><br/>\n",
    "This type of structure is obtained by both using left and right multiplications<br/>\n",
    "so it's ii)\n",
    "<br/><br/><br/>\n",
    "b) This type of matrix can be obtained by multiplying the previous matrix with\n",
    "$Q_4\n",
    "\\begin{bmatrix}\n",
    "    1       & 0 & 0\\\\\n",
    "    0       & 0 & 1\\\\\n",
    "    0       & 1 & 0\n",
    "\\end{bmatrix}\n",
    "$ from left <br/>\n",
    "so it's ii)\n",
    "\n",
    "<br/><br/><br/>\n",
    "c) Since the determinant of<br/>\n",
    "$\\begin{bmatrix}\n",
    "    x       & x & 0\\\\\n",
    "    0       & x & x\\\\\n",
    "    0       & 0 & x\n",
    "\\end{bmatrix}$\n",
    "is zero. We can't obtain this matrix structure<br/>so it's iii)"
   ]
  },
  {
   "cell_type": "code",
   "execution_count": null,
   "metadata": {
    "collapsed": true
   },
   "outputs": [],
   "source": []
  }
 ],
 "metadata": {
  "kernelspec": {
   "display_name": "Octave",
   "language": "octave",
   "name": "octave"
  },
  "language_info": {
   "file_extension": ".m",
   "help_links": [
    {
     "text": "GNU Octave",
     "url": "https://www.gnu.org/software/octave/support.html"
    },
    {
     "text": "Octave Kernel",
     "url": "https://github.com/Calysto/octave_kernel"
    },
    {
     "text": "MetaKernel Magics",
     "url": "https://github.com/calysto/metakernel/blob/master/metakernel/magics/README.md"
    }
   ],
   "mimetype": "text/x-octave",
   "name": "octave",
   "version": "4.2.0"
  }
 },
 "nbformat": 4,
 "nbformat_minor": 2
}
